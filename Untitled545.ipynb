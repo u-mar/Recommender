{
 "cells": [
  {
   "cell_type": "markdown",
   "id": "78342d03",
   "metadata": {},
   "source": [
    "# Business Understanding"
   ]
  },
  {
   "cell_type": "markdown",
   "id": "64caf17a",
   "metadata": {},
   "source": [
    "In the ever-expanding world of entertainment, finding the perfect movie can be a daunting task. Our project, FilmCraze Recommender, is designed to simplify this process by leveraging cutting-edge recommendation algorithms. This not only enhances the viewing experience for users but also provides valuable insights for content creators and streaming platforms."
   ]
  },
  {
   "cell_type": "markdown",
   "id": "63bdeef0",
   "metadata": {},
   "source": [
    "## Introduction"
   ]
  },
  {
   "cell_type": "markdown",
   "id": "689845ae",
   "metadata": {},
   "source": [
    "The challenge we aim to address is the overwhelming abundance of content available on various streaming platforms. With thousands of movies released annually, users often struggle to discover films that align with their preferences. FilmCraze Recommender seeks to revolutionize this experience by offering tailored movie recommendations based on individual tastes and preferences.\n"
   ]
  },
  {
   "cell_type": "markdown",
   "id": "cd2ada22",
   "metadata": {},
   "source": [
    "## Problem Definition"
   ]
  },
  {
   "cell_type": "markdown",
   "id": "20f718e8",
   "metadata": {},
   "source": [
    "The sheer volume of movies available on streaming platforms has led to choice overload for users. This often results in decision fatigue, reduced user engagement, and missed opportunities for content creators to reach their target audiences. Our project aims to alleviate this issue by providing personalized movie recommendations.\n",
    "\n"
   ]
  },
  {
   "cell_type": "markdown",
   "id": "7e2f2293",
   "metadata": {},
   "source": [
    "## Project Value Proposition"
   ]
  },
  {
   "cell_type": "markdown",
   "id": "1b83f9a1",
   "metadata": {},
   "source": [
    "FilmCraze Recommender employs advanced machine learning algorithms that analyze user behavior, viewing history, and preferences. By understanding individual tastes, our recommendation engine suggests movies that align with the user's interests. This not only leads to higher user satisfaction but also increases user retention for streaming platforms.\n",
    "\n",
    "For instance, if a user enjoys action-packed superhero movies, our system will suggest films with similar genres, ensuring they discover content that resonates with their preferences.\n",
    "\n"
   ]
  },
  {
   "cell_type": "markdown",
   "id": "390fe074",
   "metadata": {},
   "source": [
    "## Stakeholder Analysis\n",
    "\n",
    "- **End Users (Viewers):** The primary beneficiaries are the end users who gain access to personalized movie recommendations, saving them time and effort in the selection process. They will also have a more enjoyable viewing experience.\n",
    "- **Streaming Platforms:** Our recommendation engine provides streaming platforms with a competitive edge. It increases user engagement, leading to longer session durations and potentially higher subscription rates. Additionally, it allows platforms to curate content for specific user segments.\n",
    "- **Content Creators and Studios:** FilmCraze Recommender offers valuable insights into viewer preferences, enabling content creators to understand their target audience better. This can guide future content production and marketing strategies.\n"
   ]
  },
  {
   "cell_type": "markdown",
   "id": "fc027da3",
   "metadata": {},
   "source": [
    "## Conclusion"
   ]
  },
  {
   "cell_type": "markdown",
   "id": "8c0655a2",
   "metadata": {},
   "source": [
    "In summary, FilmCraze Recommender addresses the real-world challenge of content overload in the digital entertainment industry. By leveraging advanced recommendation algorithms, we offer a solution that benefits both users and stakeholders in the streaming ecosystem.\n",
    "\n",
    "Through personalized movie recommendations, we aim to enhance the viewing experience, increase user satisfaction, and provide valuable data-driven insights for content creators and streaming platforms. The value of FilmCraze Recommender lies not only in its innovative technology but in the positive impact it has on the entertainment industry as a whole."
   ]
  },
  {
   "cell_type": "markdown",
   "id": "674cb890",
   "metadata": {},
   "source": [
    "# Data Understanding"
   ]
  },
  {
   "cell_type": "markdown",
   "id": "73dd14b0",
   "metadata": {},
   "source": [
    "## Data Sources and Suitability\n",
    "\n",
    "The dataset utilized for this project is the [MovieLens dataset](https://www.movielens.org/), a well-established and widely recognized dataset in the field of movie recommendations. MovieLens is acclaimed for its extensive collection of user interactions and comprehensive movie metadata.\n",
    "\n",
    "The choice of the dataset for this project is supported by several key considerations:\n",
    "\n",
    "1. **Diverse User Interactions:** The dataset encompasses a diverse range of user interactions, including movie ratings, tags, and detailed user profiles. These elements are integral to the development of effective recommendation algorithms.\n",
    "\n",
    "2. **Proven Academic and Industry Usage:** The MovieLens dataset has a long history of application in both academic research and industrial contexts. Its extensive utilization serves as a testament to its effectiveness and reliability in the domain of recommendation system development.\n"
   ]
  },
  {
   "cell_type": "code",
   "execution_count": 46,
   "id": "7a9030ca",
   "metadata": {},
   "outputs": [],
   "source": [
    "# imports\n",
    "import pandas as pd\n",
    "import numpy as np\n",
    "import seaborn as sns\n",
    "import matplotlib.pyplot as plt\n",
    "import findspark\n",
    "\n",
    "findspark.init()"
   ]
  },
  {
   "cell_type": "code",
   "execution_count": 3,
   "id": "5f95e83f",
   "metadata": {
    "scrolled": true
   },
   "outputs": [
    {
     "data": {
      "text/html": [
       "<div>\n",
       "<style scoped>\n",
       "    .dataframe tbody tr th:only-of-type {\n",
       "        vertical-align: middle;\n",
       "    }\n",
       "\n",
       "    .dataframe tbody tr th {\n",
       "        vertical-align: top;\n",
       "    }\n",
       "\n",
       "    .dataframe thead th {\n",
       "        text-align: right;\n",
       "    }\n",
       "</style>\n",
       "<table border=\"1\" class=\"dataframe\">\n",
       "  <thead>\n",
       "    <tr style=\"text-align: right;\">\n",
       "      <th></th>\n",
       "      <th>movieId</th>\n",
       "      <th>imdbId</th>\n",
       "      <th>tmdbId</th>\n",
       "    </tr>\n",
       "  </thead>\n",
       "  <tbody>\n",
       "    <tr>\n",
       "      <th>0</th>\n",
       "      <td>1</td>\n",
       "      <td>114709</td>\n",
       "      <td>862.0</td>\n",
       "    </tr>\n",
       "    <tr>\n",
       "      <th>1</th>\n",
       "      <td>2</td>\n",
       "      <td>113497</td>\n",
       "      <td>8844.0</td>\n",
       "    </tr>\n",
       "    <tr>\n",
       "      <th>2</th>\n",
       "      <td>3</td>\n",
       "      <td>113228</td>\n",
       "      <td>15602.0</td>\n",
       "    </tr>\n",
       "    <tr>\n",
       "      <th>3</th>\n",
       "      <td>4</td>\n",
       "      <td>114885</td>\n",
       "      <td>31357.0</td>\n",
       "    </tr>\n",
       "    <tr>\n",
       "      <th>4</th>\n",
       "      <td>5</td>\n",
       "      <td>113041</td>\n",
       "      <td>11862.0</td>\n",
       "    </tr>\n",
       "  </tbody>\n",
       "</table>\n",
       "</div>"
      ],
      "text/plain": [
       "   movieId  imdbId   tmdbId\n",
       "0        1  114709    862.0\n",
       "1        2  113497   8844.0\n",
       "2        3  113228  15602.0\n",
       "3        4  114885  31357.0\n",
       "4        5  113041  11862.0"
      ]
     },
     "execution_count": 3,
     "metadata": {},
     "output_type": "execute_result"
    }
   ],
   "source": [
    "link = pd.read_csv('ml-latest-small/links.csv')\n",
    "link.head()\n"
   ]
  },
  {
   "cell_type": "code",
   "execution_count": 4,
   "id": "d752c1e4",
   "metadata": {
    "scrolled": true
   },
   "outputs": [
    {
     "data": {
      "text/html": [
       "<div>\n",
       "<style scoped>\n",
       "    .dataframe tbody tr th:only-of-type {\n",
       "        vertical-align: middle;\n",
       "    }\n",
       "\n",
       "    .dataframe tbody tr th {\n",
       "        vertical-align: top;\n",
       "    }\n",
       "\n",
       "    .dataframe thead th {\n",
       "        text-align: right;\n",
       "    }\n",
       "</style>\n",
       "<table border=\"1\" class=\"dataframe\">\n",
       "  <thead>\n",
       "    <tr style=\"text-align: right;\">\n",
       "      <th></th>\n",
       "      <th>movieId</th>\n",
       "      <th>title</th>\n",
       "      <th>genres</th>\n",
       "    </tr>\n",
       "  </thead>\n",
       "  <tbody>\n",
       "    <tr>\n",
       "      <th>0</th>\n",
       "      <td>1</td>\n",
       "      <td>Toy Story (1995)</td>\n",
       "      <td>Adventure|Animation|Children|Comedy|Fantasy</td>\n",
       "    </tr>\n",
       "    <tr>\n",
       "      <th>1</th>\n",
       "      <td>2</td>\n",
       "      <td>Jumanji (1995)</td>\n",
       "      <td>Adventure|Children|Fantasy</td>\n",
       "    </tr>\n",
       "    <tr>\n",
       "      <th>2</th>\n",
       "      <td>3</td>\n",
       "      <td>Grumpier Old Men (1995)</td>\n",
       "      <td>Comedy|Romance</td>\n",
       "    </tr>\n",
       "    <tr>\n",
       "      <th>3</th>\n",
       "      <td>4</td>\n",
       "      <td>Waiting to Exhale (1995)</td>\n",
       "      <td>Comedy|Drama|Romance</td>\n",
       "    </tr>\n",
       "    <tr>\n",
       "      <th>4</th>\n",
       "      <td>5</td>\n",
       "      <td>Father of the Bride Part II (1995)</td>\n",
       "      <td>Comedy</td>\n",
       "    </tr>\n",
       "  </tbody>\n",
       "</table>\n",
       "</div>"
      ],
      "text/plain": [
       "   movieId                               title  \\\n",
       "0        1                    Toy Story (1995)   \n",
       "1        2                      Jumanji (1995)   \n",
       "2        3             Grumpier Old Men (1995)   \n",
       "3        4            Waiting to Exhale (1995)   \n",
       "4        5  Father of the Bride Part II (1995)   \n",
       "\n",
       "                                        genres  \n",
       "0  Adventure|Animation|Children|Comedy|Fantasy  \n",
       "1                   Adventure|Children|Fantasy  \n",
       "2                               Comedy|Romance  \n",
       "3                         Comedy|Drama|Romance  \n",
       "4                                       Comedy  "
      ]
     },
     "execution_count": 4,
     "metadata": {},
     "output_type": "execute_result"
    }
   ],
   "source": [
    "movies = pd.read_csv('ml-latest-small/movies.csv')\n",
    "movies.head()\n"
   ]
  },
  {
   "cell_type": "code",
   "execution_count": 5,
   "id": "fd596aee",
   "metadata": {},
   "outputs": [
    {
     "data": {
      "text/html": [
       "<div>\n",
       "<style scoped>\n",
       "    .dataframe tbody tr th:only-of-type {\n",
       "        vertical-align: middle;\n",
       "    }\n",
       "\n",
       "    .dataframe tbody tr th {\n",
       "        vertical-align: top;\n",
       "    }\n",
       "\n",
       "    .dataframe thead th {\n",
       "        text-align: right;\n",
       "    }\n",
       "</style>\n",
       "<table border=\"1\" class=\"dataframe\">\n",
       "  <thead>\n",
       "    <tr style=\"text-align: right;\">\n",
       "      <th></th>\n",
       "      <th>userId</th>\n",
       "      <th>movieId</th>\n",
       "      <th>rating</th>\n",
       "      <th>timestamp</th>\n",
       "    </tr>\n",
       "  </thead>\n",
       "  <tbody>\n",
       "    <tr>\n",
       "      <th>0</th>\n",
       "      <td>1</td>\n",
       "      <td>1</td>\n",
       "      <td>4.0</td>\n",
       "      <td>964982703</td>\n",
       "    </tr>\n",
       "    <tr>\n",
       "      <th>1</th>\n",
       "      <td>1</td>\n",
       "      <td>3</td>\n",
       "      <td>4.0</td>\n",
       "      <td>964981247</td>\n",
       "    </tr>\n",
       "    <tr>\n",
       "      <th>2</th>\n",
       "      <td>1</td>\n",
       "      <td>6</td>\n",
       "      <td>4.0</td>\n",
       "      <td>964982224</td>\n",
       "    </tr>\n",
       "    <tr>\n",
       "      <th>3</th>\n",
       "      <td>1</td>\n",
       "      <td>47</td>\n",
       "      <td>5.0</td>\n",
       "      <td>964983815</td>\n",
       "    </tr>\n",
       "    <tr>\n",
       "      <th>4</th>\n",
       "      <td>1</td>\n",
       "      <td>50</td>\n",
       "      <td>5.0</td>\n",
       "      <td>964982931</td>\n",
       "    </tr>\n",
       "  </tbody>\n",
       "</table>\n",
       "</div>"
      ],
      "text/plain": [
       "   userId  movieId  rating  timestamp\n",
       "0       1        1     4.0  964982703\n",
       "1       1        3     4.0  964981247\n",
       "2       1        6     4.0  964982224\n",
       "3       1       47     5.0  964983815\n",
       "4       1       50     5.0  964982931"
      ]
     },
     "execution_count": 5,
     "metadata": {},
     "output_type": "execute_result"
    }
   ],
   "source": [
    "rate = pd.read_csv('ml-latest-small/ratings.csv')\n",
    "rate.head()"
   ]
  },
  {
   "cell_type": "code",
   "execution_count": 6,
   "id": "ac580560",
   "metadata": {},
   "outputs": [],
   "source": [
    "df =link.merge(movies,on='movieId')\n",
    "df = df.merge(rate,on='movieId')"
   ]
  },
  {
   "cell_type": "code",
   "execution_count": 7,
   "id": "8748ad65",
   "metadata": {},
   "outputs": [
    {
     "data": {
      "text/html": [
       "<div>\n",
       "<style scoped>\n",
       "    .dataframe tbody tr th:only-of-type {\n",
       "        vertical-align: middle;\n",
       "    }\n",
       "\n",
       "    .dataframe tbody tr th {\n",
       "        vertical-align: top;\n",
       "    }\n",
       "\n",
       "    .dataframe thead th {\n",
       "        text-align: right;\n",
       "    }\n",
       "</style>\n",
       "<table border=\"1\" class=\"dataframe\">\n",
       "  <thead>\n",
       "    <tr style=\"text-align: right;\">\n",
       "      <th></th>\n",
       "      <th>userId</th>\n",
       "      <th>rating</th>\n",
       "      <th>title</th>\n",
       "      <th>tmdbId</th>\n",
       "    </tr>\n",
       "  </thead>\n",
       "  <tbody>\n",
       "    <tr>\n",
       "      <th>0</th>\n",
       "      <td>1</td>\n",
       "      <td>4.0</td>\n",
       "      <td>Toy Story (1995)</td>\n",
       "      <td>862.0</td>\n",
       "    </tr>\n",
       "    <tr>\n",
       "      <th>1</th>\n",
       "      <td>5</td>\n",
       "      <td>4.0</td>\n",
       "      <td>Toy Story (1995)</td>\n",
       "      <td>862.0</td>\n",
       "    </tr>\n",
       "    <tr>\n",
       "      <th>2</th>\n",
       "      <td>7</td>\n",
       "      <td>4.5</td>\n",
       "      <td>Toy Story (1995)</td>\n",
       "      <td>862.0</td>\n",
       "    </tr>\n",
       "    <tr>\n",
       "      <th>3</th>\n",
       "      <td>15</td>\n",
       "      <td>2.5</td>\n",
       "      <td>Toy Story (1995)</td>\n",
       "      <td>862.0</td>\n",
       "    </tr>\n",
       "    <tr>\n",
       "      <th>4</th>\n",
       "      <td>17</td>\n",
       "      <td>4.5</td>\n",
       "      <td>Toy Story (1995)</td>\n",
       "      <td>862.0</td>\n",
       "    </tr>\n",
       "  </tbody>\n",
       "</table>\n",
       "</div>"
      ],
      "text/plain": [
       "   userId  rating             title  tmdbId\n",
       "0       1     4.0  Toy Story (1995)   862.0\n",
       "1       5     4.0  Toy Story (1995)   862.0\n",
       "2       7     4.5  Toy Story (1995)   862.0\n",
       "3      15     2.5  Toy Story (1995)   862.0\n",
       "4      17     4.5  Toy Story (1995)   862.0"
      ]
     },
     "execution_count": 7,
     "metadata": {},
     "output_type": "execute_result"
    }
   ],
   "source": [
    "df1 = df[['userId','rating','title','tmdbId']]\n",
    "df1.head()"
   ]
  },
  {
   "cell_type": "markdown",
   "id": "fed8a2c7",
   "metadata": {},
   "source": [
    "The dataset for this movie recommendation project includes four key features: `userId`, `rating`, `title`, and `tmdbId`. The `userId` serves as a unique identifier for users, allowing for personalized recommendation modeling. The `rating` feature provides numerical feedback on movie preferences, crucial for understanding user likes and predicting behavior. Movie titles (`title`) are essential for user comprehension and identification of recommended content. Additionally, the inclusion of `tmdbId`, representing movie identifiers from The Movie Database (TMDb), TMDb was chosen because it allows API calls to retrieve movie posters, adding value to the recommendation system., thereby enhancing the quality of recommendations, particularly in content-based and hybrid approaches. Each of these features has been thoughtfully selected to optimize the effectiveness of the movie recommendation system."
   ]
  },
  {
   "cell_type": "markdown",
   "id": "b5b11cb7",
   "metadata": {},
   "source": [
    "## Data Statistics"
   ]
  },
  {
   "cell_type": "code",
   "execution_count": 8,
   "id": "eb19633a",
   "metadata": {},
   "outputs": [
    {
     "name": "stdout",
     "output_type": "stream",
     "text": [
      "The Data has 100836 records and 4 features\n"
     ]
    }
   ],
   "source": [
    "# data size and  shape\n",
    "print(f'The Data has {df1.shape[0]} records and {df1.shape[1]} features')"
   ]
  },
  {
   "cell_type": "code",
   "execution_count": 9,
   "id": "a66c68ee",
   "metadata": {
    "scrolled": true
   },
   "outputs": [
    {
     "name": "stdout",
     "output_type": "stream",
     "text": [
      "<class 'pandas.core.frame.DataFrame'>\n",
      "Int64Index: 100836 entries, 0 to 100835\n",
      "Data columns (total 4 columns):\n",
      " #   Column  Non-Null Count   Dtype  \n",
      "---  ------  --------------   -----  \n",
      " 0   userId  100836 non-null  int64  \n",
      " 1   rating  100836 non-null  float64\n",
      " 2   title   100836 non-null  object \n",
      " 3   tmdbId  100823 non-null  float64\n",
      "dtypes: float64(2), int64(1), object(1)\n",
      "memory usage: 3.8+ MB\n"
     ]
    }
   ],
   "source": [
    "# checking for data info\n",
    "df1.info()"
   ]
  },
  {
   "cell_type": "code",
   "execution_count": 10,
   "id": "d49e840c",
   "metadata": {
    "scrolled": false
   },
   "outputs": [
    {
     "data": {
      "text/html": [
       "<div>\n",
       "<style scoped>\n",
       "    .dataframe tbody tr th:only-of-type {\n",
       "        vertical-align: middle;\n",
       "    }\n",
       "\n",
       "    .dataframe tbody tr th {\n",
       "        vertical-align: top;\n",
       "    }\n",
       "\n",
       "    .dataframe thead th {\n",
       "        text-align: right;\n",
       "    }\n",
       "</style>\n",
       "<table border=\"1\" class=\"dataframe\">\n",
       "  <thead>\n",
       "    <tr style=\"text-align: right;\">\n",
       "      <th></th>\n",
       "      <th>userId</th>\n",
       "      <th>rating</th>\n",
       "      <th>tmdbId</th>\n",
       "    </tr>\n",
       "  </thead>\n",
       "  <tbody>\n",
       "    <tr>\n",
       "      <th>count</th>\n",
       "      <td>100836.000000</td>\n",
       "      <td>100836.000000</td>\n",
       "      <td>100823.000000</td>\n",
       "    </tr>\n",
       "    <tr>\n",
       "      <th>mean</th>\n",
       "      <td>326.127564</td>\n",
       "      <td>3.501557</td>\n",
       "      <td>20105.462633</td>\n",
       "    </tr>\n",
       "    <tr>\n",
       "      <th>std</th>\n",
       "      <td>182.618491</td>\n",
       "      <td>1.042529</td>\n",
       "      <td>53274.143620</td>\n",
       "    </tr>\n",
       "    <tr>\n",
       "      <th>min</th>\n",
       "      <td>1.000000</td>\n",
       "      <td>0.500000</td>\n",
       "      <td>2.000000</td>\n",
       "    </tr>\n",
       "    <tr>\n",
       "      <th>25%</th>\n",
       "      <td>177.000000</td>\n",
       "      <td>3.000000</td>\n",
       "      <td>712.000000</td>\n",
       "    </tr>\n",
       "    <tr>\n",
       "      <th>50%</th>\n",
       "      <td>325.000000</td>\n",
       "      <td>3.500000</td>\n",
       "      <td>6957.000000</td>\n",
       "    </tr>\n",
       "    <tr>\n",
       "      <th>75%</th>\n",
       "      <td>477.000000</td>\n",
       "      <td>4.000000</td>\n",
       "      <td>11635.000000</td>\n",
       "    </tr>\n",
       "    <tr>\n",
       "      <th>max</th>\n",
       "      <td>610.000000</td>\n",
       "      <td>5.000000</td>\n",
       "      <td>525662.000000</td>\n",
       "    </tr>\n",
       "  </tbody>\n",
       "</table>\n",
       "</div>"
      ],
      "text/plain": [
       "              userId         rating         tmdbId\n",
       "count  100836.000000  100836.000000  100823.000000\n",
       "mean      326.127564       3.501557   20105.462633\n",
       "std       182.618491       1.042529   53274.143620\n",
       "min         1.000000       0.500000       2.000000\n",
       "25%       177.000000       3.000000     712.000000\n",
       "50%       325.000000       3.500000    6957.000000\n",
       "75%       477.000000       4.000000   11635.000000\n",
       "max       610.000000       5.000000  525662.000000"
      ]
     },
     "execution_count": 10,
     "metadata": {},
     "output_type": "execute_result"
    }
   ],
   "source": [
    "# checking for data statistic\n",
    "df1.describe()"
   ]
  },
  {
   "cell_type": "markdown",
   "id": "a65e1df3",
   "metadata": {},
   "source": [
    "**DataFrame Summary:**\n",
    "\n",
    "- The DataFrame consists of 100836 entries and 4 columns.\n",
    "\n",
    "- **userId:** This column contains user identifiers with 100836 non-null entries (int64), indicating no missing values.\n",
    "\n",
    "- **rating:** The rating column holds numerical values representing movie ratings. It also has 100836 non-null entries (float64) with no missing values. Summary statistics for this column are as follows:\n",
    "  - Mean: 3.501557\n",
    "  - Standard Deviation: 1.042529\n",
    "  - Minimum: 0.5\n",
    "  - 25th Percentile: 3.0\n",
    "  - Median (50th Percentile): 3.5\n",
    "  - 75th Percentile: 4.0\n",
    "  - Maximum: 5.0\n",
    "\n",
    "- **title:** The title column, an object data type, contains movie titles. Like the previous columns, it has 100836 non-null entries, implying no missing values.\n",
    "\n",
    "- **tmdbId:** The tmdbId column has 100823 non-null entries, indicating three missing values (NaN). This column's data type is float64. If these missing values affect your analysis, consider addressing them by either dropping rows with missing tmdbId values or imputing them as needed.\n"
   ]
  },
  {
   "cell_type": "code",
   "execution_count": 11,
   "id": "8c6c4d3d",
   "metadata": {},
   "outputs": [
    {
     "data": {
      "image/png": "[encoded data removed]",
      "text/plain": [
       "<Figure size 1200x600 with 2 Axes>"
      ]
     },
     "metadata": {},
     "output_type": "display_data"
    }
   ],
   "source": [
    "# Set style for the plot\n",
    "sns.set(style=\"whitegrid\")\n",
    "\n",
    "# Create a figure with two subplots\n",
    "fig, (ax1, ax2) = plt.subplots(1, 2, figsize=(12, 6))  # Adjust the figure size and number of subplots\n",
    "\n",
    "# Plot 1: Histogram\n",
    "sns.histplot(data=df1, x='rating', bins=9, color='skyblue', edgecolor='black', kde=True, ax=ax1)\n",
    "ax1.set_title('Distribution of Movie Ratings')\n",
    "ax1.set_xlabel('Rating')\n",
    "ax1.set_ylabel('Frequency')\n",
    "\n",
    "# Plot 2: Box Plot (To check for outliers)\n",
    "sns.boxplot(data=df1, x='rating', ax=ax2, color='lightblue')\n",
    "ax2.set_title('Box Plot of Ratings (Outlier Check)')\n",
    "ax2.set_xlabel('Rating')\n",
    "\n",
    "# Adjust spacing between subplots\n",
    "plt.tight_layout()\n",
    "\n",
    "# Show the plots\n",
    "plt.show()"
   ]
  },
  {
   "cell_type": "markdown",
   "id": "3e01bdc6",
   "metadata": {},
   "source": [
    "The right-skewed rating distribution shows users generally rate movies positively, but outliers with very low ratings indicate dissatisfaction. Improved movie recommendations can enhance user satisfaction by suggesting better-suited films."
   ]
  },
  {
   "cell_type": "markdown",
   "id": "3b3ae1b5",
   "metadata": {},
   "source": [
    "## Limitation"
   ]
  },
  {
   "cell_type": "code",
   "execution_count": 12,
   "id": "27626047",
   "metadata": {
    "scrolled": true
   },
   "outputs": [
    {
     "data": {
      "text/plain": [
       "userId     0\n",
       "rating     0\n",
       "title      0\n",
       "tmdbId    13\n",
       "dtype: int64"
      ]
     },
     "execution_count": 12,
     "metadata": {},
     "output_type": "execute_result"
    }
   ],
   "source": [
    "df1.isna().sum()"
   ]
  },
  {
   "cell_type": "markdown",
   "id": "548268bb",
   "metadata": {},
   "source": [
    "It appears that the `tmdbId` feature has missing values in 13 rows of the dataset. Given that these missing values cannot be imputed or replaced, the most appropriate action is to drop the affected rows to ensure data quality and integrity. This will help in maintaining the reliability of the dataset for subsequent analyses and recommendations."
   ]
  },
  {
   "cell_type": "code",
   "execution_count": 13,
   "id": "deb7380a",
   "metadata": {},
   "outputs": [
    {
     "data": {
      "text/plain": [
       "1"
      ]
     },
     "execution_count": 13,
     "metadata": {},
     "output_type": "execute_result"
    }
   ],
   "source": [
    "# checking for duplicates\n",
    "df1.duplicated().sum()"
   ]
  },
  {
   "cell_type": "markdown",
   "id": "fa9b4326",
   "metadata": {},
   "source": [
    "It has been identified that there is a duplicate entry in the dataset. To maintain data integrity and ensure accurate analysis, the duplicate entry will be removed. This action helps in eliminating redundancy and maintaining the quality of the dataset."
   ]
  },
  {
   "cell_type": "markdown",
   "id": "b3d10eb7",
   "metadata": {},
   "source": [
    "# Data Preparation"
   ]
  },
  {
   "cell_type": "code",
   "execution_count": 54,
   "id": "187463b6",
   "metadata": {},
   "outputs": [],
   "source": [
    "# dealing with missing value in the tmdbId colum\n",
    "df1 = df1.dropna(subset=['tmdbId'])"
   ]
  },
  {
   "cell_type": "code",
   "execution_count": 55,
   "id": "bb6e2abe",
   "metadata": {},
   "outputs": [],
   "source": [
    "# changing the data type from float to int for it to work in my fetch_poster function\n",
    "df1['tmdbId'] = df1['tmdbId'].apply(lambda x: int(x))"
   ]
  },
  {
   "cell_type": "code",
   "execution_count": 59,
   "id": "26c53885",
   "metadata": {},
   "outputs": [],
   "source": [
    "# dropping the duplicate\n",
    "df1.drop_duplicates(keep='first', inplace=True)"
   ]
  },
  {
   "cell_type": "code",
   "execution_count": 68,
   "id": "160b81a2",
   "metadata": {},
   "outputs": [],
   "source": [
    "#renaming the column names to lower to be in place with the postgres columns so that we can concat\n",
    "# new dataframes to the df1\n",
    "df1.rename(columns={'userId':'userid','tmdbId':'tmdbid'},inplace=True)"
   ]
  },
  {
   "cell_type": "code",
   "execution_count": null,
   "id": "fe69bbb9",
   "metadata": {},
   "outputs": [],
   "source": []
  },
  {
   "cell_type": "markdown",
   "id": "5f4e3300",
   "metadata": {},
   "source": [
    "# Model"
   ]
  },
  {
   "cell_type": "markdown",
   "id": "18c4eec9",
   "metadata": {},
   "source": [
    "##  Popularity-Based "
   ]
  },
  {
   "cell_type": "markdown",
   "id": "dba4a518",
   "metadata": {},
   "source": [
    "**Popularity-based recommendation** is a simple yet effective approach that recommends popular items to users. It assigns popularity scores to items based on metrics like average ratings, total interactions, or views. This method is straightforward to implement and serves as a solid baseline for evaluating more complex recommendation models.\n",
    "\n",
    "However, it's important to note that popularity-based recommendations lack personalization. They offer the same set of popular items to all users, irrespective of individual preferences. While this approach is valuable for scenarios with limited user data or as an initial benchmark, it may not capture the diversity of user tastes and preferences that more advanced models can provide."
   ]
  },
  {
   "cell_type": "code",
   "execution_count": 101,
   "id": "3fbe683d",
   "metadata": {
    "scrolled": true
   },
   "outputs": [
    {
     "data": {
      "text/html": [
       "<div>\n",
       "<style scoped>\n",
       "    .dataframe tbody tr th:only-of-type {\n",
       "        vertical-align: middle;\n",
       "    }\n",
       "\n",
       "    .dataframe tbody tr th {\n",
       "        vertical-align: top;\n",
       "    }\n",
       "\n",
       "    .dataframe thead th {\n",
       "        text-align: right;\n",
       "    }\n",
       "</style>\n",
       "<table border=\"1\" class=\"dataframe\">\n",
       "  <thead>\n",
       "    <tr style=\"text-align: right;\">\n",
       "      <th></th>\n",
       "      <th>rating</th>\n",
       "      <th>tmdbid</th>\n",
       "    </tr>\n",
       "    <tr>\n",
       "      <th>title</th>\n",
       "      <th></th>\n",
       "      <th></th>\n",
       "    </tr>\n",
       "  </thead>\n",
       "  <tbody>\n",
       "    <tr>\n",
       "      <th>'71 (2014)</th>\n",
       "      <td>4.0</td>\n",
       "      <td>252178.0</td>\n",
       "    </tr>\n",
       "    <tr>\n",
       "      <th>'Hellboy': The Seeds of Creation (2004)</th>\n",
       "      <td>4.0</td>\n",
       "      <td>72867.0</td>\n",
       "    </tr>\n",
       "    <tr>\n",
       "      <th>'Round Midnight (1986)</th>\n",
       "      <td>3.5</td>\n",
       "      <td>14670.0</td>\n",
       "    </tr>\n",
       "    <tr>\n",
       "      <th>'Salem's Lot (2004)</th>\n",
       "      <td>5.0</td>\n",
       "      <td>36763.0</td>\n",
       "    </tr>\n",
       "    <tr>\n",
       "      <th>'Til There Was You (1997)</th>\n",
       "      <td>4.0</td>\n",
       "      <td>32872.0</td>\n",
       "    </tr>\n",
       "  </tbody>\n",
       "</table>\n",
       "</div>"
      ],
      "text/plain": [
       "                                         rating    tmdbid\n",
       "title                                                    \n",
       "'71 (2014)                                  4.0  252178.0\n",
       "'Hellboy': The Seeds of Creation (2004)     4.0   72867.0\n",
       "'Round Midnight (1986)                      3.5   14670.0\n",
       "'Salem's Lot (2004)                         5.0   36763.0\n",
       "'Til There Was You (1997)                   4.0   32872.0"
      ]
     },
     "execution_count": 101,
     "metadata": {},
     "output_type": "execute_result"
    }
   ],
   "source": [
    "# Calculate the average rating for each movie using groupby and select the 'rating' column\n",
    "movie_popularity = df1.groupby(\"title\").mean()[[\"rating\",'tmdbid']]\n",
    "movie_popularity.head()"
   ]
  },
  {
   "cell_type": "code",
   "execution_count": 102,
   "id": "5cfb28b4",
   "metadata": {},
   "outputs": [],
   "source": [
    "# Display the top N movies with the highest average ratings\n",
    "N = 10  # Number of recommendations\n",
    "top_movies = movie_popularity.sort_values(by=\"rating\", ascending=False).head(N)"
   ]
  },
  {
   "cell_type": "code",
   "execution_count": 104,
   "id": "36d6fb13",
   "metadata": {},
   "outputs": [
    {
     "name": "stdout",
     "output_type": "stream",
     "text": [
      "Gena the Crocodile (1969)\n",
      "Act of Killing, The (2012)\n",
      "Hunting Elephants (2013)\n",
      "Palindromes (2004)\n",
      "Battle Royale 2: Requiem (Batoru rowaiaru II: Chinkonka) (2003)\n",
      "Dr. Goldfoot and the Bikini Machine (1965)\n",
      "Mephisto (1981)\n",
      "Presto (2008)\n",
      "Four Days in September (O Que É Isso, Companheiro?) (1997)\n",
      "Down Argentine Way (1940)\n"
     ]
    }
   ],
   "source": [
    "# Display the titles of the top recommended movies\n",
    "recommended_movies_text = \"\\n\".join(top_movies.index.values)\n",
    "print(recommended_movies_text)"
   ]
  },
  {
   "cell_type": "markdown",
   "id": "01fe662c",
   "metadata": {},
   "source": [
    "<font size='3'>While the popularity-based approach provided some initial recommendations, it's essential to recognize that it may not capture individual user preferences effectively. In the next phase of our project, we will dive into collaborative filtering.</font>\n",
    "\n",
    "<font size='3'>Collaborative filtering is a more sophisticated technique that considers user interactions and similarity between users to make personalized movie recommendations. By doing so, we aim to provide you with tailored movie suggestions that align with your unique tastes and preferences. Stay tuned for more personalized and engaging movie recommendations!</font>\n"
   ]
  },
  {
   "cell_type": "code",
   "execution_count": 119,
   "id": "56a19af6",
   "metadata": {},
   "outputs": [
    {
     "ename": "NameError",
     "evalue": "name 'tojson' is not defined",
     "output_type": "error",
     "traceback": [
      "\u001b[1;31m---------------------------------------------------------------------------\u001b[0m",
      "\u001b[1;31mNameError\u001b[0m                                 Traceback (most recent call last)",
      "Cell \u001b[1;32mIn[119], line 2\u001b[0m\n\u001b[0;32m      1\u001b[0m dd \u001b[38;5;241m=\u001b[39mdf1[\u001b[38;5;124m'\u001b[39m\u001b[38;5;124mtitle\u001b[39m\u001b[38;5;124m'\u001b[39m]\u001b[38;5;241m.\u001b[39munique()\u001b[38;5;241m.\u001b[39mtolist()\n\u001b[1;32m----> 2\u001b[0m dd\u001b[38;5;241m|\u001b[39m\u001b[43mtojson\u001b[49m\u001b[38;5;241m|\u001b[39msafe\n",
      "\u001b[1;31mNameError\u001b[0m: name 'tojson' is not defined"
     ]
    }
   ],
   "source": [
    "dd =df1['title'].unique().tolist()\n",
    "dd|tojson|safe"
   ]
  },
  {
   "cell_type": "markdown",
   "id": "f1bac7ab",
   "metadata": {},
   "source": [
    "## Collaborative Filtering"
   ]
  },
  {
   "cell_type": "markdown",
   "id": "b29445c4",
   "metadata": {},
   "source": [
    "**Collaborative filtering** is the next frontier in our recommendation system. This technique delves deeper into understanding your preferences by analyzing user interactions with movies and identifying similarities between users. Collaborative filtering aims to provide you with personalized movie suggestions that align closely with your unique tastes.\n",
    "\n",
    "**ALS (Alternating Least Squares)** is one of the powerful algorithms we'll be using for collaborative filtering. ALS is particularly well-suited for matrix factorization, where it decomposes the user-item interaction matrix to learn latent factors that represent user preferences and movie characteristics. By leveraging ALS, we can offer recommendations that are both personalized and accurate.\n",
    "\n",
    "In this collaborative approach, we'll consider how users with similar viewing behaviors might enjoy movies you've liked and discover new favorites based on the preferences of like-minded individuals.\n",
    "\n"
   ]
  },
  {
   "cell_type": "code",
   "execution_count": 86,
   "id": "c618c471",
   "metadata": {},
   "outputs": [],
   "source": [
    "# importing pyspark \n",
    "import pyspark\n",
    "from pyspark.sql import SparkSession\n",
    "from pyspark.ml.evaluation import RegressionEvaluator\n",
    "from pyspark.sql.functions import col\n",
    "\n",
    "from pyspark.ml.recommendation import ALS "
   ]
  },
  {
   "cell_type": "code",
   "execution_count": 79,
   "id": "460365d8",
   "metadata": {},
   "outputs": [],
   "source": [
    "# saving the prepared data to a new csv\n",
    "df1.to_csv('final.csv',index=False)"
   ]
  },
  {
   "cell_type": "code",
   "execution_count": 80,
   "id": "11194c0f",
   "metadata": {},
   "outputs": [],
   "source": [
    "spark = SparkSession.builder.master(\"local\").getOrCreate()"
   ]
  },
  {
   "cell_type": "code",
   "execution_count": 87,
   "id": "d0e9e0cf",
   "metadata": {},
   "outputs": [],
   "source": [
    "# reading csv data with spark\n",
    "spark_df = spark.read.csv('final.csv',header=True)"
   ]
  },
  {
   "cell_type": "code",
   "execution_count": 88,
   "id": "690c4798",
   "metadata": {},
   "outputs": [],
   "source": [
    "spark_df = spark_df.withColumn(\"userid\", col(\"userid\").cast(\"int\"))\n",
    "spark_df = spark_df.withColumn(\"tmdbid\", col(\"tmdbid\").cast(\"int\"))\n",
    "spark_df = spark_df.withColumn(\"rating\", col(\"rating\").cast(\"float\"))"
   ]
  },
  {
   "cell_type": "code",
   "execution_count": 89,
   "id": "ecdbebcc",
   "metadata": {},
   "outputs": [],
   "source": [
    "# splitting the the dataframe to train and test for evaluation\n",
    "train,test = spark_df.randomSplit([0.7, 0.3],42)"
   ]
  },
  {
   "cell_type": "code",
   "execution_count": 90,
   "id": "bc63231f",
   "metadata": {},
   "outputs": [
    {
     "name": "stdout",
     "output_type": "stream",
     "text": [
      "+------+------+--------------------+------+\n",
      "|userid|rating|               title|tmdbid|\n",
      "+------+------+--------------------+------+\n",
      "|     1|   1.0|Talented Mr. Ripl...|  1213|\n",
      "|     1|   2.0|I Still Know What...|  3600|\n",
      "|     1|   2.0|       Psycho (1960)|   539|\n",
      "|     1|   2.0|       Psycho (1998)| 11252|\n",
      "|     1|   2.0|         Toys (1992)| 11597|\n",
      "+------+------+--------------------+------+\n",
      "only showing top 5 rows\n",
      "\n"
     ]
    }
   ],
   "source": [
    "# showing the first 5 records\n",
    "train.show(5)"
   ]
  },
  {
   "cell_type": "code",
   "execution_count": 91,
   "id": "1a321f8b",
   "metadata": {},
   "outputs": [],
   "source": [
    "# building the als model\n",
    "model = ALS(userCol='userid',itemCol='tmdbid',ratingCol='rating',coldStartStrategy='drop')"
   ]
  },
  {
   "cell_type": "code",
   "execution_count": 92,
   "id": "07a391b9",
   "metadata": {},
   "outputs": [],
   "source": [
    "# fitting the model \n",
    "model = model.fit(train)"
   ]
  },
  {
   "cell_type": "code",
   "execution_count": 96,
   "id": "6cac657c",
   "metadata": {},
   "outputs": [
    {
     "data": {
      "text/plain": [
       "ALSModel: uid=ALS_81859c6b3d81, rank=10"
      ]
     },
     "execution_count": 96,
     "metadata": {},
     "output_type": "execute_result"
    }
   ],
   "source": [
    "model"
   ]
  },
  {
   "cell_type": "code",
   "execution_count": 98,
   "id": "8d90a7f1",
   "metadata": {},
   "outputs": [
    {
     "data": {
      "text/plain": [
       "0.8922242505577075"
      ]
     },
     "execution_count": 98,
     "metadata": {},
     "output_type": "execute_result"
    }
   ],
   "source": [
    "# Evaluate the model by computing the RMSE on the test data\n",
    "train_pred = model.transform(test)\n",
    "evaluator = RegressionEvaluator(\n",
    "    predictionCol='prediction',  \n",
    "    labelCol=\"rating\"  \n",
    ")\n",
    "evaluator.evaluate(train_pred, {evaluator.metricName: \"rmse\"})"
   ]
  },
  {
   "cell_type": "code",
   "execution_count": null,
   "id": "3a18d9b2",
   "metadata": {},
   "outputs": [],
   "source": []
  }
 ],
 "metadata": {
  "kernelspec": {
   "display_name": "Python 3 (ipykernel)",
   "language": "python",
   "name": "python3"
  },
  "language_info": {
   "codemirror_mode": {
    "name": "ipython",
    "version": 3
   },
   "file_extension": ".py",
   "mimetype": "text/x-python",
   "name": "python",
   "nbconvert_exporter": "python",
   "pygments_lexer": "ipython3",
   "version": "3.10.7"
  }
 },
 "nbformat": 4,
 "nbformat_minor": 5
}

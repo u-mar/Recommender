{
 "cells": [
  {
   "cell_type": "markdown",
   "id": "39e12b89",
   "metadata": {},
   "source": [
    "# Recommendation System"
   ]
  },
  {
   "cell_type": "markdown",
   "id": "78342d03",
   "metadata": {},
   "source": [
    "## Business Understanding"
   ]
  },
  {
   "cell_type": "markdown",
   "id": "64caf17a",
   "metadata": {},
   "source": [
    "In the ever-expanding world of entertainment, finding the perfect movie can be a daunting task. Our project, FilmCraze Recommender, is designed to simplify this process by leveraging cutting-edge recommendation algorithms. This not only enhances the viewing experience for users but also provides valuable insights for content creators and streaming platforms."
   ]
  },
  {
   "cell_type": "markdown",
   "id": "63bdeef0",
   "metadata": {},
   "source": [
    "## Introduction"
   ]
  },
  {
   "cell_type": "markdown",
   "id": "689845ae",
   "metadata": {},
   "source": [
    "The challenge we aim to address is the overwhelming abundance of content available on various streaming platforms. With thousands of movies released annually, users often struggle to discover films that align with their preferences. FilmCraze Recommender seeks to revolutionize this experience by offering tailored movie recommendations based on individual tastes and preferences.\n"
   ]
  },
  {
   "cell_type": "markdown",
   "id": "cd2ada22",
   "metadata": {},
   "source": [
    "## Problem Definition"
   ]
  },
  {
   "cell_type": "markdown",
   "id": "20f718e8",
   "metadata": {},
   "source": [
    "The sheer volume of movies available on streaming platforms has led to choice overload for users. This often results in decision fatigue, reduced user engagement, and missed opportunities for content creators to reach their target audiences. Our project aims to alleviate this issue by providing personalized movie recommendations.\n",
    "\n"
   ]
  },
  {
   "cell_type": "markdown",
   "id": "7e2f2293",
   "metadata": {},
   "source": [
    "## Project Value Proposition"
   ]
  },
  {
   "cell_type": "markdown",
   "id": "1b83f9a1",
   "metadata": {},
   "source": [
    "FilmCraze Recommender employs advanced machine learning algorithms that analyze user behavior, viewing history, and preferences. By understanding individual tastes, our recommendation engine suggests movies that align with the user's interests. This not only leads to higher user satisfaction but also increases user retention for streaming platforms.\n",
    "\n",
    "For instance, if a user enjoys action-packed superhero movies, our system will suggest films with similar genres, ensuring they discover content that resonates with their preferences.\n",
    "\n"
   ]
  },
  {
   "cell_type": "markdown",
   "id": "390fe074",
   "metadata": {},
   "source": [
    "## Stakeholder Analysis\n",
    "\n",
    "- **End Users (Viewers):** The primary beneficiaries are the end users who gain access to personalized movie recommendations, saving them time and effort in the selection process. They will also have a more enjoyable viewing experience.\n",
    "- **Streaming Platforms:** Our recommendation engine provides streaming platforms with a competitive edge. It increases user engagement, leading to longer session durations and potentially higher subscription rates. Additionally, it allows platforms to curate content for specific user segments.\n",
    "- **Content Creators and Studios:** FilmCraze Recommender offers valuable insights into viewer preferences, enabling content creators to understand their target audience better. This can guide future content production and marketing strategies.\n"
   ]
  },
  {
   "cell_type": "markdown",
   "id": "fc027da3",
   "metadata": {},
   "source": [
    "## Conclusion"
   ]
  },
  {
   "cell_type": "markdown",
   "id": "8c0655a2",
   "metadata": {},
   "source": [
    "In summary, FilmCraze Recommender addresses the real-world challenge of content overload in the digital entertainment industry. By leveraging advanced recommendation algorithms, we offer a solution that benefits both users and stakeholders in the streaming ecosystem.\n",
    "\n",
    "Through personalized movie recommendations, we aim to enhance the viewing experience, increase user satisfaction, and provide valuable data-driven insights for content creators and streaming platforms. The value of FilmCraze Recommender lies not only in its innovative technology but in the positive impact it has on the entertainment industry as a whole."
   ]
  },
  {
   "cell_type": "markdown",
   "id": "674cb890",
   "metadata": {},
   "source": [
    "# Data Understanding"
   ]
  },
  {
   "cell_type": "markdown",
   "id": "73dd14b0",
   "metadata": {},
   "source": [
    "## Data Sources and Suitability\n",
    "\n",
    "The dataset utilized for this project is the [MovieLens dataset](https://www.movielens.org/), a well-established and widely recognized dataset in the field of movie recommendations. MovieLens is acclaimed for its extensive collection of user interactions and comprehensive movie metadata.\n",
    "\n",
    "The choice of the dataset for this project is supported by several key considerations:\n",
    "\n",
    "1. **Diverse User Interactions:** The dataset encompasses a diverse range of user interactions, including movie ratings, tags, and detailed user profiles. These elements are integral to the development of effective recommendation algorithms.\n",
    "\n",
    "2. **Proven Academic and Industry Usage:** The MovieLens dataset has a long history of application in both academic research and industrial contexts. Its extensive utilization serves as a testament to its effectiveness and reliability in the domain of recommendation system development.\n"
   ]
  },
  {
   "cell_type": "code",
   "execution_count": 175,
   "id": "7a9030ca",
   "metadata": {},
   "outputs": [],
   "source": [
    "# imports\n",
    "import pandas as pd\n",
    "import numpy as np\n",
    "import seaborn as sns\n",
    "import matplotlib.pyplot as plt\n",
    "import findspark\n",
    "import warnings\n",
    "import recmetrics\n",
    "import pickle\n",
    "\n",
    "warnings.filterwarnings('ignore')\n",
    "findspark.init()"
   ]
  },
  {
   "cell_type": "code",
   "execution_count": 3,
   "id": "5f95e83f",
   "metadata": {
    "scrolled": true
   },
   "outputs": [
    {
     "data": {
      "text/html": [
       "<div>\n",
       "<style scoped>\n",
       "    .dataframe tbody tr th:only-of-type {\n",
       "        vertical-align: middle;\n",
       "    }\n",
       "\n",
       "    .dataframe tbody tr th {\n",
       "        vertical-align: top;\n",
       "    }\n",
       "\n",
       "    .dataframe thead th {\n",
       "        text-align: right;\n",
       "    }\n",
       "</style>\n",
       "<table border=\"1\" class=\"dataframe\">\n",
       "  <thead>\n",
       "    <tr style=\"text-align: right;\">\n",
       "      <th></th>\n",
       "      <th>movieId</th>\n",
       "      <th>imdbId</th>\n",
       "      <th>tmdbId</th>\n",
       "    </tr>\n",
       "  </thead>\n",
       "  <tbody>\n",
       "    <tr>\n",
       "      <th>0</th>\n",
       "      <td>1</td>\n",
       "      <td>114709</td>\n",
       "      <td>862.0</td>\n",
       "    </tr>\n",
       "    <tr>\n",
       "      <th>1</th>\n",
       "      <td>2</td>\n",
       "      <td>113497</td>\n",
       "      <td>8844.0</td>\n",
       "    </tr>\n",
       "    <tr>\n",
       "      <th>2</th>\n",
       "      <td>3</td>\n",
       "      <td>113228</td>\n",
       "      <td>15602.0</td>\n",
       "    </tr>\n",
       "    <tr>\n",
       "      <th>3</th>\n",
       "      <td>4</td>\n",
       "      <td>114885</td>\n",
       "      <td>31357.0</td>\n",
       "    </tr>\n",
       "    <tr>\n",
       "      <th>4</th>\n",
       "      <td>5</td>\n",
       "      <td>113041</td>\n",
       "      <td>11862.0</td>\n",
       "    </tr>\n",
       "  </tbody>\n",
       "</table>\n",
       "</div>"
      ],
      "text/plain": [
       "   movieId  imdbId   tmdbId\n",
       "0        1  114709    862.0\n",
       "1        2  113497   8844.0\n",
       "2        3  113228  15602.0\n",
       "3        4  114885  31357.0\n",
       "4        5  113041  11862.0"
      ]
     },
     "execution_count": 3,
     "metadata": {},
     "output_type": "execute_result"
    }
   ],
   "source": [
    "link = pd.read_csv('ml-latest-small/links.csv')\n",
    "link.head()\n"
   ]
  },
  {
   "cell_type": "code",
   "execution_count": 4,
   "id": "d752c1e4",
   "metadata": {
    "scrolled": true
   },
   "outputs": [
    {
     "data": {
      "text/html": [
       "<div>\n",
       "<style scoped>\n",
       "    .dataframe tbody tr th:only-of-type {\n",
       "        vertical-align: middle;\n",
       "    }\n",
       "\n",
       "    .dataframe tbody tr th {\n",
       "        vertical-align: top;\n",
       "    }\n",
       "\n",
       "    .dataframe thead th {\n",
       "        text-align: right;\n",
       "    }\n",
       "</style>\n",
       "<table border=\"1\" class=\"dataframe\">\n",
       "  <thead>\n",
       "    <tr style=\"text-align: right;\">\n",
       "      <th></th>\n",
       "      <th>movieId</th>\n",
       "      <th>title</th>\n",
       "      <th>genres</th>\n",
       "    </tr>\n",
       "  </thead>\n",
       "  <tbody>\n",
       "    <tr>\n",
       "      <th>0</th>\n",
       "      <td>1</td>\n",
       "      <td>Toy Story (1995)</td>\n",
       "      <td>Adventure|Animation|Children|Comedy|Fantasy</td>\n",
       "    </tr>\n",
       "    <tr>\n",
       "      <th>1</th>\n",
       "      <td>2</td>\n",
       "      <td>Jumanji (1995)</td>\n",
       "      <td>Adventure|Children|Fantasy</td>\n",
       "    </tr>\n",
       "    <tr>\n",
       "      <th>2</th>\n",
       "      <td>3</td>\n",
       "      <td>Grumpier Old Men (1995)</td>\n",
       "      <td>Comedy|Romance</td>\n",
       "    </tr>\n",
       "    <tr>\n",
       "      <th>3</th>\n",
       "      <td>4</td>\n",
       "      <td>Waiting to Exhale (1995)</td>\n",
       "      <td>Comedy|Drama|Romance</td>\n",
       "    </tr>\n",
       "    <tr>\n",
       "      <th>4</th>\n",
       "      <td>5</td>\n",
       "      <td>Father of the Bride Part II (1995)</td>\n",
       "      <td>Comedy</td>\n",
       "    </tr>\n",
       "  </tbody>\n",
       "</table>\n",
       "</div>"
      ],
      "text/plain": [
       "   movieId                               title  \\\n",
       "0        1                    Toy Story (1995)   \n",
       "1        2                      Jumanji (1995)   \n",
       "2        3             Grumpier Old Men (1995)   \n",
       "3        4            Waiting to Exhale (1995)   \n",
       "4        5  Father of the Bride Part II (1995)   \n",
       "\n",
       "                                        genres  \n",
       "0  Adventure|Animation|Children|Comedy|Fantasy  \n",
       "1                   Adventure|Children|Fantasy  \n",
       "2                               Comedy|Romance  \n",
       "3                         Comedy|Drama|Romance  \n",
       "4                                       Comedy  "
      ]
     },
     "execution_count": 4,
     "metadata": {},
     "output_type": "execute_result"
    }
   ],
   "source": [
    "movies = pd.read_csv('ml-latest-small/movies.csv')\n",
    "movies.head()\n"
   ]
  },
  {
   "cell_type": "code",
   "execution_count": 5,
   "id": "fd596aee",
   "metadata": {},
   "outputs": [
    {
     "data": {
      "text/html": [
       "<div>\n",
       "<style scoped>\n",
       "    .dataframe tbody tr th:only-of-type {\n",
       "        vertical-align: middle;\n",
       "    }\n",
       "\n",
       "    .dataframe tbody tr th {\n",
       "        vertical-align: top;\n",
       "    }\n",
       "\n",
       "    .dataframe thead th {\n",
       "        text-align: right;\n",
       "    }\n",
       "</style>\n",
       "<table border=\"1\" class=\"dataframe\">\n",
       "  <thead>\n",
       "    <tr style=\"text-align: right;\">\n",
       "      <th></th>\n",
       "      <th>userId</th>\n",
       "      <th>movieId</th>\n",
       "      <th>rating</th>\n",
       "      <th>timestamp</th>\n",
       "    </tr>\n",
       "  </thead>\n",
       "  <tbody>\n",
       "    <tr>\n",
       "      <th>0</th>\n",
       "      <td>1</td>\n",
       "      <td>1</td>\n",
       "      <td>4.0</td>\n",
       "      <td>964982703</td>\n",
       "    </tr>\n",
       "    <tr>\n",
       "      <th>1</th>\n",
       "      <td>1</td>\n",
       "      <td>3</td>\n",
       "      <td>4.0</td>\n",
       "      <td>964981247</td>\n",
       "    </tr>\n",
       "    <tr>\n",
       "      <th>2</th>\n",
       "      <td>1</td>\n",
       "      <td>6</td>\n",
       "      <td>4.0</td>\n",
       "      <td>964982224</td>\n",
       "    </tr>\n",
       "    <tr>\n",
       "      <th>3</th>\n",
       "      <td>1</td>\n",
       "      <td>47</td>\n",
       "      <td>5.0</td>\n",
       "      <td>964983815</td>\n",
       "    </tr>\n",
       "    <tr>\n",
       "      <th>4</th>\n",
       "      <td>1</td>\n",
       "      <td>50</td>\n",
       "      <td>5.0</td>\n",
       "      <td>964982931</td>\n",
       "    </tr>\n",
       "  </tbody>\n",
       "</table>\n",
       "</div>"
      ],
      "text/plain": [
       "   userId  movieId  rating  timestamp\n",
       "0       1        1     4.0  964982703\n",
       "1       1        3     4.0  964981247\n",
       "2       1        6     4.0  964982224\n",
       "3       1       47     5.0  964983815\n",
       "4       1       50     5.0  964982931"
      ]
     },
     "execution_count": 5,
     "metadata": {},
     "output_type": "execute_result"
    }
   ],
   "source": [
    "rate = pd.read_csv('ml-latest-small/ratings.csv')\n",
    "rate.head()"
   ]
  },
  {
   "cell_type": "code",
   "execution_count": 6,
   "id": "ac580560",
   "metadata": {},
   "outputs": [],
   "source": [
    "df =link.merge(movies,on='movieId')\n",
    "df = df.merge(rate,on='movieId')"
   ]
  },
  {
   "cell_type": "code",
   "execution_count": 7,
   "id": "8748ad65",
   "metadata": {},
   "outputs": [
    {
     "data": {
      "text/html": [
       "<div>\n",
       "<style scoped>\n",
       "    .dataframe tbody tr th:only-of-type {\n",
       "        vertical-align: middle;\n",
       "    }\n",
       "\n",
       "    .dataframe tbody tr th {\n",
       "        vertical-align: top;\n",
       "    }\n",
       "\n",
       "    .dataframe thead th {\n",
       "        text-align: right;\n",
       "    }\n",
       "</style>\n",
       "<table border=\"1\" class=\"dataframe\">\n",
       "  <thead>\n",
       "    <tr style=\"text-align: right;\">\n",
       "      <th></th>\n",
       "      <th>userId</th>\n",
       "      <th>rating</th>\n",
       "      <th>title</th>\n",
       "      <th>tmdbId</th>\n",
       "    </tr>\n",
       "  </thead>\n",
       "  <tbody>\n",
       "    <tr>\n",
       "      <th>0</th>\n",
       "      <td>1</td>\n",
       "      <td>4.0</td>\n",
       "      <td>Toy Story (1995)</td>\n",
       "      <td>862.0</td>\n",
       "    </tr>\n",
       "    <tr>\n",
       "      <th>1</th>\n",
       "      <td>5</td>\n",
       "      <td>4.0</td>\n",
       "      <td>Toy Story (1995)</td>\n",
       "      <td>862.0</td>\n",
       "    </tr>\n",
       "    <tr>\n",
       "      <th>2</th>\n",
       "      <td>7</td>\n",
       "      <td>4.5</td>\n",
       "      <td>Toy Story (1995)</td>\n",
       "      <td>862.0</td>\n",
       "    </tr>\n",
       "    <tr>\n",
       "      <th>3</th>\n",
       "      <td>15</td>\n",
       "      <td>2.5</td>\n",
       "      <td>Toy Story (1995)</td>\n",
       "      <td>862.0</td>\n",
       "    </tr>\n",
       "    <tr>\n",
       "      <th>4</th>\n",
       "      <td>17</td>\n",
       "      <td>4.5</td>\n",
       "      <td>Toy Story (1995)</td>\n",
       "      <td>862.0</td>\n",
       "    </tr>\n",
       "  </tbody>\n",
       "</table>\n",
       "</div>"
      ],
      "text/plain": [
       "   userId  rating             title  tmdbId\n",
       "0       1     4.0  Toy Story (1995)   862.0\n",
       "1       5     4.0  Toy Story (1995)   862.0\n",
       "2       7     4.5  Toy Story (1995)   862.0\n",
       "3      15     2.5  Toy Story (1995)   862.0\n",
       "4      17     4.5  Toy Story (1995)   862.0"
      ]
     },
     "execution_count": 7,
     "metadata": {},
     "output_type": "execute_result"
    }
   ],
   "source": [
    "df1 = df[['userId','rating','title','tmdbId']]\n",
    "df1.head()"
   ]
  },
  {
   "cell_type": "markdown",
   "id": "fed8a2c7",
   "metadata": {},
   "source": [
    "The dataset for this movie recommendation project includes four key features: `userId`, `rating`, `title`, and `tmdbId`. The `userId` serves as a unique identifier for users, allowing for personalized recommendation modeling. The `rating` feature provides numerical feedback on movie preferences, crucial for understanding user likes and predicting behavior. Movie titles (`title`) are essential for user comprehension and identification of recommended content. Additionally, the inclusion of `tmdbId`, representing movie identifiers from The Movie Database (TMDb), TMDb was chosen because it allows API calls to retrieve movie posters, adding value to the recommendation system., thereby enhancing the quality of recommendations, particularly in content-based and hybrid approaches. Each of these features has been thoughtfully selected to optimize the effectiveness of the movie recommendation system."
   ]
  },
  {
   "cell_type": "markdown",
   "id": "b5b11cb7",
   "metadata": {},
   "source": [
    "## Data Statistics"
   ]
  },
  {
   "cell_type": "code",
   "execution_count": 8,
   "id": "eb19633a",
   "metadata": {},
   "outputs": [
    {
     "name": "stdout",
     "output_type": "stream",
     "text": [
      "The Data has 100836 records and 4 features\n"
     ]
    }
   ],
   "source": [
    "# data size and  shape\n",
    "print(f'The Data has {df1.shape[0]} records and {df1.shape[1]} features')"
   ]
  },
  {
   "cell_type": "code",
   "execution_count": 9,
   "id": "a66c68ee",
   "metadata": {
    "scrolled": true
   },
   "outputs": [
    {
     "name": "stdout",
     "output_type": "stream",
     "text": [
      "<class 'pandas.core.frame.DataFrame'>\n",
      "Int64Index: 100836 entries, 0 to 100835\n",
      "Data columns (total 4 columns):\n",
      " #   Column  Non-Null Count   Dtype  \n",
      "---  ------  --------------   -----  \n",
      " 0   userId  100836 non-null  int64  \n",
      " 1   rating  100836 non-null  float64\n",
      " 2   title   100836 non-null  object \n",
      " 3   tmdbId  100823 non-null  float64\n",
      "dtypes: float64(2), int64(1), object(1)\n",
      "memory usage: 3.8+ MB\n"
     ]
    }
   ],
   "source": [
    "# checking for data info\n",
    "df1.info()"
   ]
  },
  {
   "cell_type": "code",
   "execution_count": 10,
   "id": "d49e840c",
   "metadata": {},
   "outputs": [
    {
     "data": {
      "text/html": [
       "<div>\n",
       "<style scoped>\n",
       "    .dataframe tbody tr th:only-of-type {\n",
       "        vertical-align: middle;\n",
       "    }\n",
       "\n",
       "    .dataframe tbody tr th {\n",
       "        vertical-align: top;\n",
       "    }\n",
       "\n",
       "    .dataframe thead th {\n",
       "        text-align: right;\n",
       "    }\n",
       "</style>\n",
       "<table border=\"1\" class=\"dataframe\">\n",
       "  <thead>\n",
       "    <tr style=\"text-align: right;\">\n",
       "      <th></th>\n",
       "      <th>userId</th>\n",
       "      <th>rating</th>\n",
       "      <th>tmdbId</th>\n",
       "    </tr>\n",
       "  </thead>\n",
       "  <tbody>\n",
       "    <tr>\n",
       "      <th>count</th>\n",
       "      <td>100836.000000</td>\n",
       "      <td>100836.000000</td>\n",
       "      <td>100823.000000</td>\n",
       "    </tr>\n",
       "    <tr>\n",
       "      <th>mean</th>\n",
       "      <td>326.127564</td>\n",
       "      <td>3.501557</td>\n",
       "      <td>20105.462633</td>\n",
       "    </tr>\n",
       "    <tr>\n",
       "      <th>std</th>\n",
       "      <td>182.618491</td>\n",
       "      <td>1.042529</td>\n",
       "      <td>53274.143620</td>\n",
       "    </tr>\n",
       "    <tr>\n",
       "      <th>min</th>\n",
       "      <td>1.000000</td>\n",
       "      <td>0.500000</td>\n",
       "      <td>2.000000</td>\n",
       "    </tr>\n",
       "    <tr>\n",
       "      <th>25%</th>\n",
       "      <td>177.000000</td>\n",
       "      <td>3.000000</td>\n",
       "      <td>712.000000</td>\n",
       "    </tr>\n",
       "    <tr>\n",
       "      <th>50%</th>\n",
       "      <td>325.000000</td>\n",
       "      <td>3.500000</td>\n",
       "      <td>6957.000000</td>\n",
       "    </tr>\n",
       "    <tr>\n",
       "      <th>75%</th>\n",
       "      <td>477.000000</td>\n",
       "      <td>4.000000</td>\n",
       "      <td>11635.000000</td>\n",
       "    </tr>\n",
       "    <tr>\n",
       "      <th>max</th>\n",
       "      <td>610.000000</td>\n",
       "      <td>5.000000</td>\n",
       "      <td>525662.000000</td>\n",
       "    </tr>\n",
       "  </tbody>\n",
       "</table>\n",
       "</div>"
      ],
      "text/plain": [
       "              userId         rating         tmdbId\n",
       "count  100836.000000  100836.000000  100823.000000\n",
       "mean      326.127564       3.501557   20105.462633\n",
       "std       182.618491       1.042529   53274.143620\n",
       "min         1.000000       0.500000       2.000000\n",
       "25%       177.000000       3.000000     712.000000\n",
       "50%       325.000000       3.500000    6957.000000\n",
       "75%       477.000000       4.000000   11635.000000\n",
       "max       610.000000       5.000000  525662.000000"
      ]
     },
     "execution_count": 10,
     "metadata": {},
     "output_type": "execute_result"
    }
   ],
   "source": [
    "# checking for data statistic\n",
    "df1.describe()"
   ]
  },
  {
   "cell_type": "markdown",
   "id": "a65e1df3",
   "metadata": {},
   "source": [
    "**DataFrame Summary:**\n",
    "\n",
    "- The DataFrame consists of 100836 entries and 4 columns.\n",
    "\n",
    "- **userId:** This column contains user identifiers with 100836 non-null entries (int64), indicating no missing values.\n",
    "\n",
    "- **rating:** The rating column holds numerical values representing movie ratings. It also has 100836 non-null entries (float64) with no missing values. Summary statistics for this column are as follows:\n",
    "  - Mean: 3.501557\n",
    "  - Standard Deviation: 1.042529\n",
    "  - Minimum: 0.5\n",
    "  - 25th Percentile: 3.0\n",
    "  - Median (50th Percentile): 3.5\n",
    "  - 75th Percentile: 4.0\n",
    "  - Maximum: 5.0\n",
    "\n",
    "- **title:** The title column, an object data type, contains movie titles. Like the previous columns, it has 100836 non-null entries, implying no missing values.\n",
    "\n",
    "- **tmdbId:** The tmdbId column has 100823 non-null entries, indicating three missing values (NaN). This column's data type is float64. If these missing values affect your analysis, consider addressing them by either dropping rows with missing tmdbId values or imputing them as needed.\n"
   ]
  },
  {
   "cell_type": "code",
   "execution_count": 11,
   "id": "1a23c99f",
   "metadata": {},
   "outputs": [
    {
     "data": {
      "image/png": "[encoded data removed]",
      "text/plain": [
       "<Figure size 1200x600 with 1 Axes>"
      ]
     },
     "metadata": {},
     "output_type": "display_data"
    }
   ],
   "source": [
    "# Calculate the rating distribution\n",
    "movieRatingDistGroup = df1['rating'].value_counts().sort_index().reset_index()\n",
    "\n",
    "# Create Matplotlib Figure\n",
    "fig, ax = plt.subplots(figsize=(12, 6))\n",
    "\n",
    "# Main Figure: Seaborn Barplot\n",
    "sns.barplot(data=movieRatingDistGroup, x='index', y='rating',\n",
    "            palette='RdYlGn', edgecolor=\"black\", ax=ax)\n",
    "\n",
    "# Set X-axis and Y-axis labels\n",
    "ax.set_xlabel(\"User-Movie Ratings\")\n",
    "ax.set_ylabel('Number of Users')\n",
    "ax.xaxis.set_tick_params(rotation=45)\n",
    "\n",
    "# Thousand separator on Y-axis labels\n",
    "ax.set_yticklabels(['{:,}'.format(int(x)) for x in ax.get_yticks().tolist()])\n",
    "\n",
    "# Add percentage text on top of each bar\n",
    "total = float(movieRatingDistGroup['rating'].sum())\n",
    "for p in ax.patches:\n",
    "    height = p.get_height()\n",
    "    ax.text(p.get_x() + p.get_width() / 2.,\n",
    "            height + 350,\n",
    "            '{0:.0%}'.format(height / total),\n",
    "            ha=\"center\")\n",
    "\n",
    "# Display the plot\n",
    "plt.show()\n"
   ]
  },
  {
   "cell_type": "markdown",
   "id": "3e01bdc6",
   "metadata": {},
   "source": [
    "The right-skewed rating distribution shows users generally rate movies positively, but outliers with very low ratings indicate dissatisfaction. Improved movie recommendations can enhance user satisfaction by suggesting better-suited films."
   ]
  },
  {
   "cell_type": "code",
   "execution_count": 13,
   "id": "89cf42c3",
   "metadata": {},
   "outputs": [
    {
     "data": {
      "image/png": "[encoded data removed]",
      "text/plain": [
       "<Figure size 1500x700 with 1 Axes>"
      ]
     },
     "metadata": {},
     "output_type": "display_data"
    }
   ],
   "source": [
    "fig = plt.figure(figsize=(15, 7))\n",
    "recmetrics.long_tail_plot(df=df1, \n",
    "             item_id_column=\"tmdbId\", \n",
    "             interaction_type=\"ratings\", \n",
    "             percentage=0.5,\n",
    "             x_labels=False)"
   ]
  },
  {
   "cell_type": "markdown",
   "id": "d40b65b6-4ac8-49eb-9521-e2a41ba8466b",
   "metadata": {},
   "source": [
    "The plot provides insights into the distribution of user ratings for movies. It's divided into two segments: the \"head\" and the \"tail.\"\n",
    "\n",
    "- In the \"head,\" there are 658 movies. These are the highly popular or well-rated ones.\n",
    "- The \"tail\" consists of 9,057 movies, which are less popular or have lower ratings.\n",
    "\n",
    "This distribution is a common pattern in recommendation systems. The \"head\" contains widely favored items, while the \"tail\" includes less-known ones. Understanding this distribution helps in creating balanced recommendations that cater to both popular and niche preferences.\n"
   ]
  },
  {
   "cell_type": "markdown",
   "id": "3b3ae1b5",
   "metadata": {},
   "source": [
    "## Limitation"
   ]
  },
  {
   "cell_type": "code",
   "execution_count": 14,
   "id": "27626047",
   "metadata": {
    "scrolled": true
   },
   "outputs": [
    {
     "data": {
      "text/plain": [
       "userId     0\n",
       "rating     0\n",
       "title      0\n",
       "tmdbId    13\n",
       "dtype: int64"
      ]
     },
     "execution_count": 14,
     "metadata": {},
     "output_type": "execute_result"
    }
   ],
   "source": [
    "df1.isna().sum()"
   ]
  },
  {
   "cell_type": "markdown",
   "id": "548268bb",
   "metadata": {},
   "source": [
    "It appears that the `tmdbId` feature has missing values in 13 rows of the dataset. Given that these missing values cannot be imputed or replaced, the most appropriate action is to drop the affected rows to ensure data quality and integrity. This will help in maintaining the reliability of the dataset for subsequent analyses and recommendations."
   ]
  },
  {
   "cell_type": "code",
   "execution_count": 15,
   "id": "deb7380a",
   "metadata": {},
   "outputs": [
    {
     "data": {
      "text/plain": [
       "1"
      ]
     },
     "execution_count": 15,
     "metadata": {},
     "output_type": "execute_result"
    }
   ],
   "source": [
    "# checking for duplicates\n",
    "df1.duplicated().sum()"
   ]
  },
  {
   "cell_type": "markdown",
   "id": "fa9b4326",
   "metadata": {},
   "source": [
    "It has been identified that there is a duplicate entry in the dataset. To maintain data integrity and ensure accurate analysis, the duplicate entry will be removed. This action helps in eliminating redundancy and maintaining the quality of the dataset."
   ]
  },
  {
   "cell_type": "markdown",
   "id": "b3d10eb7",
   "metadata": {},
   "source": [
    "# Data Preparation"
   ]
  },
  {
   "cell_type": "code",
   "execution_count": 16,
   "id": "187463b6",
   "metadata": {},
   "outputs": [],
   "source": [
    "# dealing with missing value in the tmdbId colum\n",
    "df1 = df1.dropna(subset=['tmdbId'])"
   ]
  },
  {
   "cell_type": "code",
   "execution_count": 17,
   "id": "bb6e2abe",
   "metadata": {},
   "outputs": [],
   "source": [
    "# changing the data type from float to int for it to work in my fetch_poster function\n",
    "df1['tmdbId'] = df1['tmdbId'].apply(lambda x: int(x))"
   ]
  },
  {
   "cell_type": "code",
   "execution_count": 18,
   "id": "26c53885",
   "metadata": {},
   "outputs": [],
   "source": [
    "# dropping the duplicate\n",
    "df1.drop_duplicates(keep='first', inplace=True)"
   ]
  },
  {
   "cell_type": "code",
   "execution_count": 19,
   "id": "160b81a2",
   "metadata": {},
   "outputs": [],
   "source": [
    "#renaming the column names to lower to be in place with the postgres columns so that we can concat\n",
    "# new dataframes to the df1\n",
    "df1.rename(columns={'userId':'userid','tmdbId':'tmdbid'},inplace=True)"
   ]
  },
  {
   "cell_type": "markdown",
   "id": "5f4e3300",
   "metadata": {},
   "source": [
    "# Models"
   ]
  },
  {
   "cell_type": "markdown",
   "id": "18c4eec9",
   "metadata": {},
   "source": [
    "##  Popularity-Based "
   ]
  },
  {
   "cell_type": "markdown",
   "id": "dba4a518",
   "metadata": {},
   "source": [
    "**Popularity-based recommendation** is a simple yet effective approach that recommends popular items to users. It assigns popularity scores to items based on metrics like average ratings, total interactions, or views. This method is straightforward to implement and serves as a solid baseline for evaluating more complex recommendation models."
   ]
  },
  {
   "cell_type": "markdown",
   "id": "64a98d06",
   "metadata": {},
   "source": [
    "<font size='3'>The easiest approach for recommending movies is to simply recommend the most popular ones. This simple approach will act as a benchmark for more complex machine learning models.\n",
    "\n",
    "<font size='3'>We will measure movie popularity here by the average user rating for a given movie.\n",
    "which computes the mean rating for movie while ensuring through a logarithmic scalar that prevents obscure movies from being ranked higher than movies with a much larger viewer reach and thus were rated far more often.</font>"
   ]
  },
  {
   "cell_type": "code",
   "execution_count": 20,
   "id": "7c6e1901",
   "metadata": {
    "scrolled": true
   },
   "outputs": [
    {
     "name": "stdout",
     "output_type": "stream",
     "text": [
      "                                                    popularity_score\n",
      "title                                                               \n",
      "Shawshank Redemption, The (1994)                           25.506303\n",
      "Forrest Gump (1994)                                        24.135560\n",
      "Pulp Fiction (1994)                                        24.035972\n",
      "Matrix, The (1999)                                         23.593498\n",
      "Silence of the Lambs, The (1991)                           23.433107\n",
      "Star Wars: Episode IV - A New Hope (1977)                  23.378610\n",
      "Fight Club (1999)                                          23.007602\n",
      "Schindler's List (1993)                                    22.788076\n",
      "Star Wars: Episode V - The Empire Strikes Back ...         22.561506\n",
      "Godfather, The (1972)                                      22.549726\n"
     ]
    }
   ],
   "source": [
    "import pandas as pd\n",
    "import math\n",
    "\n",
    "class PopularityRecommenderModel:\n",
    "    def __init__(self, df):\n",
    "        self.df = df\n",
    "\n",
    "    def generate_top_k_recommendations(self, topk=10):\n",
    "        # Calculate mean rating with a logarithmic scaling factor\n",
    "        df_grouped = self.df.groupby('title').agg({'rating': ['mean', 'count']})\n",
    "        df_grouped.columns = ['meanRating', 'nbRatings']\n",
    "\n",
    "        # Calculate a popularity score using the formula\n",
    "        df_grouped['popularity_score'] = (df_grouped['meanRating'] * np.log(df_grouped['nbRatings']))\n",
    "\n",
    "        # Sort by popularity score and select the top k movies\n",
    "        top_rated_movies = df_grouped.sort_values(by='popularity_score', ascending=False).head(topk)\n",
    "        \n",
    "        return top_rated_movies[['popularity_score']]\n",
    "\n",
    "\n",
    "\n",
    "\n",
    "recommender = PopularityRecommenderModel(df1)\n",
    "top_recommendations = recommender.generate_top_k_recommendations(topk=10)\n",
    "print(top_recommendations)\n"
   ]
  },
  {
   "cell_type": "markdown",
   "id": "d402062e",
   "metadata": {},
   "source": [
    "While popularity-based recommendations offer a starting point, they have limitations in capturing individual user preferences. Our next phase focuses on collaborative filtering for more personalized suggestions."
   ]
  },
  {
   "cell_type": "markdown",
   "id": "5ae66a32-8ebb-4020-b3aa-a9911abfb310",
   "metadata": {},
   "source": [
    "## Cosine Similarity\r\n",
    "\r\n",
    "**Cosine similarity** is a mathematical measure of similarity between two non-zero vectors. It's widely used in recommendation systems and other fields for comparing vectors based on their direction in a multi-dimensional space.\r\n",
    "\r\n",
    "**Formula**:\r\n",
    "Cosine similarity between vectors A and B is calculate‖)\r\n",
    "|B\\|})\r\n",
    "\r\n",
    "- `A ⋅ B` denotes the dot product of vectors A and B.\r\n",
    "- `‖A‖` represents the Euclidean norm (magnitude) of vector A.\r\n",
    "- `‖B‖` represents the Euclidean norm (magnitude) of vector B.\r\n",
    "\r\n",
    "**Range**: Cosine similarity values range from -1 (perfectly dissimilar) to 1 (perfectly similar), with 0 indicating orthogonality (no similarity).\r\n",
    "\r\n",
    "**Application**:\r\n",
    "- In recommendation systems, cosine similarity helps find similar items or users based on their feature vectors (e.g., TF-IDF vectors for text-based items or user-item interacomendation systems.\r\n"
   ]
  },
  {
   "cell_type": "code",
   "execution_count": 171,
   "id": "c1dc63cd-2ed9-4d1f-9707-c59249ef115f",
   "metadata": {},
   "outputs": [],
   "source": [
    "import pandas as pd\n",
    "from sklearn.metrics.pairwise import cosine_similarity\n",
    "\n",
    "class MovieRecommender:\n",
    "    def __init__(self, data):\n",
    "        self.data = data\n",
    "        self.user_movie_matrix = None\n",
    "        self.model = None\n",
    "\n",
    "    def prepare_data(self):\n",
    "        # Create a user-movie matrix\n",
    "        self.user_movie_matrix = self.data.pivot_table(columns='userid', index='tmdbid', values='rating', fill_value=0)\n",
    "\n",
    "    def find_similar_movies(self, movie_name, num_recommendations=6):\n",
    "        mov_id = self.data[self.data['title'] == movie_name]['tmdbid'].values[0]\n",
    "        self.model = cosine_similarity(self.user_movie_matrix)\n",
    "        distance = sorted(list(enumerate(self.model[mov_id])), reverse=True, key=lambda vector:vector[1])\n",
    "        movies_id =  [movie[0] for movie in distance][1:num_recommendations+1]\n",
    "        return movies_id\n",
    "    def save_model(self, filename):\n",
    "        with open(filename, 'wb') as file:\n",
    "            pickle.dump(self.model, file)\n",
    "\n",
    "    def load_model(self, filename):\n",
    "        with open(filename, 'rb') as file:\n",
    "            self.model = pickle.load(file)\n",
    "\n",
    "\n",
    "\n",
    "# Instantiate the MovieRecommender class\n",
    "recommender = MovieRecommender(df1)\n"
   ]
  },
  {
   "cell_type": "code",
   "execution_count": 172,
   "id": "a54ae54d-a074-4b70-aa65-9e9da7d0de38",
   "metadata": {},
   "outputs": [],
   "source": [
    "# Preparing the data (create user-movie matrix)\n",
    "recommender.prepare_data()"
   ]
  },
  {
   "cell_type": "code",
   "execution_count": 173,
   "id": "20d509db-5839-4168-84e2-bcb27597f04c",
   "metadata": {},
   "outputs": [
    {
     "data": {
      "text/plain": [
       "[3201, 5705, 4187, 3202, 9414, 860]"
      ]
     },
     "execution_count": 173,
     "metadata": {},
     "output_type": "execute_result"
    }
   ],
   "source": [
    "# testing the model \n",
    "recommender.find_similar_movies('Toy Story (1995)') # returns the movieId"
   ]
  },
  {
   "cell_type": "code",
   "execution_count": 176,
   "id": "60f5aa33-4a5f-4fc7-861d-afa37c6ffdbc",
   "metadata": {},
   "outputs": [],
   "source": [
    "# saving the model\n",
    "recommender.save_model(\"cosine\")"
   ]
  },
  {
   "cell_type": "markdown",
   "id": "5cfb98dd-36c5-4dd2-8038-1efe87c5667d",
   "metadata": {},
   "source": [
    "## The \"Eye\"-Opening Improvement\n",
    "\n",
    "This model is an improvement to the baseline—something even \"Stevie Wonder\" could see! Pun intended.\n",
    "\n",
    "### Current Model vs. Baseline\n",
    "\n",
    "Our current recommendation model shines brighter than the baseline in several ways:\n",
    "\n",
    "- **Personalization**: Instead of offering generic suggestions, this model tailors recommendations to individual user preferences, ensuring a more engaging experience.\n",
    "\n",
    "- **Diversity**: With the current model, users get a broader selection of movies, helping them discover hidden gems they might have otherwise missed.\n",
    "\n",
    "So, while Stevie Wonder might not actually see these improvements, our users can definitely \"see\" the difference in the quality of their movie recommendations!\n"
   ]
  },
  {
   "cell_type": "markdown",
   "id": "f1bac7ab",
   "metadata": {},
   "source": [
    "## Collaborative Filtering"
   ]
  },
  {
   "cell_type": "markdown",
   "id": "7e8d6786-a5c7-4817-a279-7a34fab34d8d",
   "metadata": {},
   "source": [
    "\n",
    "\n",
    "Collaborative filtering (CF) generates recommendations by finding users with similar tastes. CF models are agnostic of item characteristics, eliminating the need for manual feature engineering. They offer diverse recommendations, encouraging users to explore beyond their typical preferences. However, they may struggle with obscure items.\n",
    "\n",
    "### Matrix Factorization\n",
    "\n",
    "Matrix factorization expresses user-item ratings as the product of two matrices, capturing latent structures. The goal is to minimize: \n",
    "\n",
    "$$ \\min_{U \\in \\mathbb{R}^{m \\times d},V \\in \\mathbb{R}^{n \\times d}} \\sum_{i,j} (R_{i,j} - \\langle U_i, V_j \\rangle)^2$$\n",
    "\n",
    "A major challenge is data sparsity, where many entries in the ratings matrix are missing.\n",
    "\n",
    "### Alternating Least Squares (ALS)\n",
    "\n",
    "ALS-WR is a popular approach that addresses data sparsity. It can be distributed, prevents overfitting, handles missing entries, and converges faster than SGD. The optimization problem is:\n",
    "\n",
    "$$ \\min_{U \\in \\mathbb{R}^{m \\times d},V \\in \\mathbb{R}^{n \\times d}} \\sum_{(i,j)|R_{i,j} \\neq 0} (R_{i,j} - \\langle U_i, V_j \\rangle)^2 + \\lambda \\cdot \\Bigl(\\sum_i n_{u_i}\\| U_i \\|^2 + \\sum_j n_{v_j}\\| V_j \\|^2\\Bigl)  $$\n",
    "\n",
    "These methods lay the foundation for building recommendation models that provide diverse and personalized item suggestions, addressing challenges like data sparsity.\n"
   ]
  },
  {
   "cell_type": "code",
   "execution_count": 146,
   "id": "c618c471",
   "metadata": {},
   "outputs": [],
   "source": [
    "# importing pyspark \n",
    "import pyspark\n",
    "from pyspark.sql import SparkSession\n",
    "from pyspark.ml.evaluation import RegressionEvaluator\n",
    "from pyspark.sql.functions import col\n",
    "from pyspark.ml.tuning import CrossValidator, ParamGridBuilder\n",
    "from pyspark.sql.functions import col, explode\n",
    "\n",
    "from pyspark.ml.recommendation import ALS "
   ]
  },
  {
   "cell_type": "code",
   "execution_count": 22,
   "id": "460365d8",
   "metadata": {},
   "outputs": [],
   "source": [
    "# saving the prepared data to a new csv\n",
    "df1.to_csv('final.csv',index=False)"
   ]
  },
  {
   "cell_type": "code",
   "execution_count": 23,
   "id": "11194c0f",
   "metadata": {},
   "outputs": [],
   "source": [
    "spark = SparkSession.builder.master(\"local\").getOrCreate()"
   ]
  },
  {
   "cell_type": "code",
   "execution_count": 24,
   "id": "d0e9e0cf",
   "metadata": {},
   "outputs": [],
   "source": [
    "# reading csv data with spark\n",
    "spark_df = spark.read.csv('final.csv',header=True)"
   ]
  },
  {
   "cell_type": "code",
   "execution_count": 25,
   "id": "690c4798",
   "metadata": {},
   "outputs": [],
   "source": [
    "spark_df = spark_df.withColumn(\"userid\", col(\"userid\").cast(\"int\"))\n",
    "spark_df = spark_df.withColumn(\"tmdbid\", col(\"tmdbid\").cast(\"int\"))\n",
    "spark_df = spark_df.withColumn(\"rating\", col(\"rating\").cast(\"float\"))"
   ]
  },
  {
   "cell_type": "code",
   "execution_count": 26,
   "id": "ecdbebcc",
   "metadata": {},
   "outputs": [],
   "source": [
    "# splitting the the dataframe to train and test for evaluation\n",
    "train,test = spark_df.randomSplit([0.7, 0.3],42)"
   ]
  },
  {
   "cell_type": "code",
   "execution_count": 27,
   "id": "bc63231f",
   "metadata": {},
   "outputs": [
    {
     "name": "stdout",
     "output_type": "stream",
     "text": [
      "+------+------+--------------------+------+\n",
      "|userid|rating|               title|tmdbid|\n",
      "+------+------+--------------------+------+\n",
      "|     1|   1.0|Talented Mr. Ripl...|  1213|\n",
      "|     1|   2.0|I Still Know What...|  3600|\n",
      "|     1|   2.0|       Psycho (1960)|   539|\n",
      "|     1|   2.0|       Psycho (1998)| 11252|\n",
      "|     1|   2.0|         Toys (1992)| 11597|\n",
      "+------+------+--------------------+------+\n",
      "only showing top 5 rows\n",
      "\n"
     ]
    }
   ],
   "source": [
    "# showing the first 5 records\n",
    "train.show(5)"
   ]
  },
  {
   "cell_type": "code",
   "execution_count": 28,
   "id": "1a321f8b",
   "metadata": {},
   "outputs": [],
   "source": [
    "# building the als model\n",
    "model = ALS(userCol='userid',itemCol='tmdbid',ratingCol='rating',coldStartStrategy='drop')"
   ]
  },
  {
   "cell_type": "code",
   "execution_count": 29,
   "id": "07a391b9",
   "metadata": {},
   "outputs": [],
   "source": [
    "# fitting the model \n",
    "model = model.fit(train)"
   ]
  },
  {
   "cell_type": "markdown",
   "id": "1417635a",
   "metadata": {},
   "source": [
    "## Tune The Model"
   ]
  },
  {
   "cell_type": "code",
   "execution_count": 31,
   "id": "2b14b07d",
   "metadata": {},
   "outputs": [],
   "source": [
    "als = ALS(userCol='userid', itemCol='tmdbid', ratingCol='rating', coldStartStrategy='drop')\n",
    "\n",
    "param_grid = ParamGridBuilder() \\\n",
    "    .addGrid(als.regParam, [0.1]) \\\n",
    "    .addGrid(als.rank, [4]) \\\n",
    "    .build()\n",
    "evaluator = RegressionEvaluator(\n",
    "    metricName=\"rmse\",\n",
    "    predictionCol=\"prediction\",\n",
    "    labelCol=\"rating\"\n",
    ")"
   ]
  },
  {
   "cell_type": "markdown",
   "id": "59956c05",
   "metadata": {},
   "source": [
    "## Build  Cross Validation Pipeline"
   ]
  },
  {
   "cell_type": "code",
   "execution_count": 32,
   "id": "9f172f42",
   "metadata": {},
   "outputs": [],
   "source": [
    "# instantiating crossvalidator estimator\n",
    "cv = CrossValidator(estimator=als,\n",
    "                    estimatorParamMaps=param_grid,evaluator=evaluator)"
   ]
  },
  {
   "cell_type": "code",
   "execution_count": 33,
   "id": "db68ccaa",
   "metadata": {},
   "outputs": [],
   "source": [
    "# fitting the data on the CrossValidator to get the best scoring parameters\n",
    "tuned_model = cv.fit(train)"
   ]
  },
  {
   "cell_type": "code",
   "execution_count": 34,
   "id": "e9807172",
   "metadata": {},
   "outputs": [
    {
     "name": "stdout",
     "output_type": "stream",
     "text": [
      "ALSModel: uid=ALS_d1df6367316c, rank=4\n"
     ]
    }
   ],
   "source": [
    "print(tuned_model.bestModel)"
   ]
  },
  {
   "cell_type": "code",
   "execution_count": 35,
   "id": "4549e374",
   "metadata": {},
   "outputs": [
    {
     "data": {
      "text/plain": [
       "0.8864989801966203"
      ]
     },
     "execution_count": 35,
     "metadata": {},
     "output_type": "execute_result"
    }
   ],
   "source": [
    "# predicting the test set on the tuned model\n",
    "pred = tuned_model.transform(test)\n",
    "evaluator.evaluate(pred)"
   ]
  },
  {
   "cell_type": "markdown",
   "id": "f41aa336-be3f-419d-9042-fea6f032e3f1",
   "metadata": {},
   "source": [
    "## Making Recommendations"
   ]
  },
  {
   "cell_type": "code",
   "execution_count": 110,
   "id": "f536e495-d769-4143-af6a-92156404bfad",
   "metadata": {},
   "outputs": [],
   "source": [
    "def get_user_recommendations(user_id, num_recommendations=30):\n",
    "        # Filter users with user IDs above 6 and exclude the specified user ID\n",
    "        user_subset_df = spark_df.filter((col(\"userid\") < 6)).select('userid').distinct()\n",
    "\n",
    "        # Generate recommendations for the user subset\n",
    "        recommendations = model.recommendForUserSubset(user_subset_df, num_recommendations).filter(col('userid') == user_id)\n",
    "\n",
    "        movie_id  = recommendations.select(explode(\"recommendations\").alias(\"rec\")).select(\"rec.tmdbid\")\n",
    "\n",
    "        #turning it to pandas and then a list\n",
    "        return movie_id.toPandas().values.ravel()"
   ]
  },
  {
   "cell_type": "markdown",
   "id": "24d20937-aa9c-427c-9021-5594834e9cbf",
   "metadata": {},
   "source": [
    "### Purpose:\n",
    "This function is designed to retrieve movie recommendations for an individual user. It is intended to be used on the landing page of a website or application to provide personalized movie recommendations to users based on their preferences and historical interactions.\n",
    "\n",
    "### Functionality:\n",
    "\n",
    "1. **Filter Users**: The function starts by filtering the users in the `spark_df` DataFrame to create a subset of users with user IDs less than 6 (excluding the specified user ID).\n",
    "\n",
    "2. **Generate Recommendations**: Next, it generates movie recommendations for the user subset using a recommendation model (presumably the `model` object). The number of recommendations is controlled by the `num_recommendations` parameter.\n",
    "\n",
    "3. **Filter Recommendations for the Specified User**: After obtaining recommendations for the user subset, the function filters the recommendations to only include those for the specified user ID (`user_id`).\n",
    "\n",
    "4. **Extract Movie IDs**: It extracts the movie IDs (presumably identified by the \"tmdbid\" column) from the recommendations.\n",
    "\n",
    "5. **Return Recommendations**: The function converts the extracted movie IDs into a Pandas DataFrame and then into a flat list, which is returned as the output. These movie recommendations can be used to display suggested movies to the user.\n",
    "\n",
    "### Example Usage:\n"
   ]
  },
  {
   "cell_type": "code",
   "execution_count": 148,
   "id": "9819f683-2f68-43b5-8a6d-185d511b8408",
   "metadata": {},
   "outputs": [
    {
     "data": {
      "text/plain": [
       "array([ 24447,  17473,  39916,  54287,  11347, 323373,  98851,  21874,\n",
       "          924,  22718])"
      ]
     },
     "execution_count": 148,
     "metadata": {},
     "output_type": "execute_result"
    }
   ],
   "source": [
    "user_id = 3  # Replace with the user ID for which you want recommendations\n",
    "num_recommendations = 10  # Number of movie recommendations to fetch\n",
    "get_user_recommendations(user_id, num_recommendations)"
   ]
  },
  {
   "cell_type": "markdown",
   "id": "09f07386-d814-4765-afcd-11380f436181",
   "metadata": {},
   "source": [
    "# Evaluation"
   ]
  },
  {
   "cell_type": "code",
   "execution_count": 152,
   "id": "d437ece8-6920-42a3-8177-f13630f7cd9f",
   "metadata": {},
   "outputs": [
    {
     "name": "stdout",
     "output_type": "stream",
     "text": [
      "+------+--------------------+\n",
      "|tmdbid|     recommendations|\n",
      "+------+--------------------+\n",
      "|   123|[{53, 4.6512885},...|\n",
      "+------+--------------------+\n",
      "\n"
     ]
    }
   ],
   "source": [
    "movie_id_to_search = 123  # Replace with the movie ID you're interested in\n",
    "\n",
    "# Find similar movies by measuring cosine similarity of item embeddings\n",
    "similar_movies = model.recommendForItemSubset(spark.createDataFrame([(movie_id_to_search,)], [\"tmdbid\"]),2)\n",
    "similar_movies.show()"
   ]
  },
  {
   "cell_type": "code",
   "execution_count": null,
   "id": "88b5e429-9b04-48e5-8609-6bff61259d2c",
   "metadata": {},
   "outputs": [],
   "source": []
  },
  {
   "cell_type": "code",
   "execution_count": null,
   "id": "2b05cc07-6745-4fb2-bf12-860a9dfad695",
   "metadata": {},
   "outputs": [],
   "source": []
  },
  {
   "cell_type": "code",
   "execution_count": null,
   "id": "58c89002-2e8a-46da-b12d-3fecbd5c89ce",
   "metadata": {},
   "outputs": [],
   "source": []
  },
  {
   "cell_type": "code",
   "execution_count": null,
   "id": "6e6f8b4a-f442-4fb2-9946-00a3e20b27a9",
   "metadata": {},
   "outputs": [],
   "source": []
  },
  {
   "cell_type": "markdown",
   "id": "e80d40cd-50ef-456d-800f-0662c50f3b63",
   "metadata": {},
   "source": [
    "## Collaborative Filtering vs. Popular-Based Recommendation\n",
    "\n",
    "Collaborative Filtering, as used in this recommendation model, offers several advantages over a popular-based recommendation system:\n",
    "\n",
    "1. **Personalization**: Collaborative Filtering considers individual user preferences and behaviors, providing personalized recommendations. In contrast, popular-based recommendations offer the same items to all users, lacking personalization.\n",
    "\n",
    "2. **Diverse Suggestions**: Collaborative Filtering suggests a diverse range of items based on user history, encouraging exploration and serendipity. Popular-based systems tend to recommend only well-known or trending items, limiting diversity.\n",
    "\n",
    "3. **Effective for Niche Interests**: Collaborative Filtering excels in recommending items for niche or less popular categories, catering to a wide range of user interests. Popular-based systems focus on mainstream items, potentially ignoring unique preferences.\n",
    "\n",
    "4. **Adaptability**: Collaborative Filtering adapts to changing user preferences over time, ensuring recommendations remain relevant. Popular-based recommendations may become stale and less effective as trends evolve.\n",
    "\n",
    "Overall, Collaborative Filtering enhances the user experience by offering personalized and diverse recommendations, making it a superior choice for most recommendation scenarios.\n"
   ]
  }
 ],
 "metadata": {
  "kernelspec": {
   "display_name": "Python 3 (ipykernel)",
   "language": "python",
   "name": "python3"
  },
  "language_info": {
   "codemirror_mode": {
    "name": "ipython",
    "version": 3
   },
   "file_extension": ".py",
   "mimetype": "text/x-python",
   "name": "python",
   "nbconvert_exporter": "python",
   "pygments_lexer": "ipython3",
   "version": "3.11.3"
  }
 },
 "nbformat": 4,
 "nbformat_minor": 5
}
